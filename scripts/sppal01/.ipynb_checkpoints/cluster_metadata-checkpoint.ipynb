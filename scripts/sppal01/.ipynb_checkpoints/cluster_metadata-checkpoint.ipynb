{
 "cells": [
  {
   "cell_type": "code",
   "execution_count": 1,
   "metadata": {},
   "outputs": [],
   "source": [
    "import pickle\n",
    "from deepfake.data.processing import load_folds, get_real_to_fake_dict_v2, get_cluster_data\n",
    "\n",
    "ROOT_DATA_PATH = 'aligned_352__0_10_v2'\n",
    "METADATA_PATH = 'CLUSTER_DATA_v6'\n",
    "real_set, fake_set, real_to_fake = get_real_to_fake_dict_v2(root_data_path=METADATA_PATH, is_full=False)\n",
    "REAL_VIDEO_TO_CLUSTER, FAKE_VIDEO_TO_CLUSTER, CLUSTER_TO_REAL_VIDEOS, CLUSTER_TO_FAKE_VIDEOS, CLUSTER_TO_DESCRIPTOR = get_cluster_data(METADATA_PATH)\n",
    "video_to_cluster = {}\n",
    "video_to_cluster.update(REAL_VIDEO_TO_CLUSTER)\n",
    "video_to_cluster.update(FAKE_VIDEO_TO_CLUSTER)\n",
    "\n",
    "folds_data = load_folds(METADATA_PATH)\n",
    "\n",
    "with open(f'{METADATA_PATH}/folder_to_pathes.pickle', 'rb') as f:\n",
    "    folder_to_pathes = pickle.load(f)"
   ]
  },
  {
   "cell_type": "markdown",
   "metadata": {},
   "source": [
    "### get real and fake videos for each cluster"
   ]
  },
  {
   "cell_type": "code",
   "execution_count": 3,
   "metadata": {},
   "outputs": [
    {
     "name": "stdout",
     "output_type": "stream",
     "text": [
      "num clusters : 370 370\n",
      "123 cluster reals len  : 58\n",
      "123 cluster fakes len  : 195\n"
     ]
    }
   ],
   "source": [
    "clust_idx = 123\n",
    "print('num clusters :', len(CLUSTER_TO_REAL_VIDEOS), len(CLUSTER_TO_FAKE_VIDEOS))\n",
    "print(clust_idx, 'cluster reals len  :', len(CLUSTER_TO_REAL_VIDEOS[clust_idx]))\n",
    "print(clust_idx, 'cluster fakes len  :', len(CLUSTER_TO_FAKE_VIDEOS[clust_idx]))"
   ]
  },
  {
   "cell_type": "markdown",
   "metadata": {},
   "source": [
    "### get cluster indexes for each fold"
   ]
  },
  {
   "cell_type": "code",
   "execution_count": 4,
   "metadata": {},
   "outputs": [
    {
     "name": "stdout",
     "output_type": "stream",
     "text": [
      "0 70\n",
      "1 70\n",
      "2 70\n",
      "3 71\n",
      "4 69\n"
     ]
    }
   ],
   "source": [
    "for fold_idx in range(5):\n",
    "    print(fold_idx, len(folds_data[fold_idx]))"
   ]
  },
  {
   "cell_type": "code",
   "execution_count": 5,
   "metadata": {},
   "outputs": [
    {
     "data": {
      "text/plain": [
       "[4,\n",
       " 8,\n",
       " 11,\n",
       " 18,\n",
       " 20,\n",
       " 21,\n",
       " 22,\n",
       " 25,\n",
       " 26,\n",
       " 29,\n",
       " 42,\n",
       " 48,\n",
       " 51,\n",
       " 53,\n",
       " 63,\n",
       " 64,\n",
       " 65,\n",
       " 69,\n",
       " 88,\n",
       " 93,\n",
       " 96,\n",
       " 98,\n",
       " 102,\n",
       " 110,\n",
       " 114,\n",
       " 116,\n",
       " 121,\n",
       " 136,\n",
       " 151,\n",
       " 153,\n",
       " 155,\n",
       " 156,\n",
       " 158,\n",
       " 164,\n",
       " 165,\n",
       " 169,\n",
       " 180,\n",
       " 189,\n",
       " 193,\n",
       " 200,\n",
       " 203,\n",
       " 204,\n",
       " 215,\n",
       " 218,\n",
       " 234,\n",
       " 235,\n",
       " 236,\n",
       " 244,\n",
       " 247,\n",
       " 250,\n",
       " 255,\n",
       " 262,\n",
       " 263,\n",
       " 265,\n",
       " 276,\n",
       " 280,\n",
       " 290,\n",
       " 291,\n",
       " 294,\n",
       " 302,\n",
       " 303,\n",
       " 307,\n",
       " 308,\n",
       " 323,\n",
       " 328,\n",
       " 334,\n",
       " 335,\n",
       " 338,\n",
       " 339,\n",
       " 343]"
      ]
     },
     "execution_count": 5,
     "metadata": {},
     "output_type": "execute_result"
    }
   ],
   "source": [
    "sorted(folds_data[0])"
   ]
  },
  {
   "cell_type": "code",
   "execution_count": null,
   "metadata": {},
   "outputs": [],
   "source": []
  }
 ],
 "metadata": {
  "kernelspec": {
   "display_name": "Python 3",
   "language": "python",
   "name": "python3"
  },
  "language_info": {
   "codemirror_mode": {
    "name": "ipython",
    "version": 3
   },
   "file_extension": ".py",
   "mimetype": "text/x-python",
   "name": "python",
   "nbconvert_exporter": "python",
   "pygments_lexer": "ipython3",
   "version": "3.6.4"
  }
 },
 "nbformat": 4,
 "nbformat_minor": 4
}
